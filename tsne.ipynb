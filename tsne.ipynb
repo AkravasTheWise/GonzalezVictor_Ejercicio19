{
 "cells": [
  {
   "cell_type": "code",
   "execution_count": 117,
   "metadata": {},
   "outputs": [],
   "source": [
    "import numpy as np\n",
    "import matplotlib.pyplot as plt\n",
    "import sklearn.manifold\n",
    "import sklearn.datasets\n",
    "import sklearn.cluster\n",
    "import pandas as pd"
   ]
  },
  {
   "cell_type": "code",
   "execution_count": 118,
   "metadata": {},
   "outputs": [],
   "source": [
    "data=pd.read_csv('fundamentals.csv')\n",
    "data=data.dropna()"
   ]
  },
  {
   "cell_type": "markdown",
   "metadata": {},
   "source": [
    "### En este ejercicio se utilizará un set de datos de acciones de la bolsa de valores de Nueva York."
   ]
  },
  {
   "cell_type": "code",
   "execution_count": 119,
   "metadata": {},
   "outputs": [],
   "source": [
    "dimensiones=list(data.keys())\n",
    "dimensiones.remove('Unnamed: 0')\n",
    "dimensiones.remove('Ticker Symbol')\n",
    "dimensiones.remove('Period Ending')"
   ]
  },
  {
   "cell_type": "code",
   "execution_count": null,
   "metadata": {},
   "outputs": [],
   "source": [
    "perplex=np.arange(5,50,10)\n",
    "\n",
    "for i, perplex in enumerate(perplex):\n",
    "    tsne = sklearn.manifold.TSNE(perplexity=perplex)\n",
    "    tsne.fit(data[dimensiones])\n",
    "    embedding = tsne.embedding_\n",
    "    #plt.figure(figsize=(10,10))\n",
    "    #plt.scatter(embedding[:,0], embedding[:,1])\n",
    "   \n",
    "    plt.figure(figsize=(18,20))\n",
    "\n",
    "    #plt.subplot(5,6,6*i+1)\n",
    "    #plt.title('Perplexity= {:.2f}'.format(perplex))\n",
    "    #plt.scatter(embedding[:,0],embedding[:,1],s=5)\n",
    "\n",
    "    \n",
    "    n_clusters=np.arange(2,11,2)\n",
    "    for j,n_clusters in enumerate(n_clusters):\n",
    "        k_means = sklearn.cluster.KMeans(n_clusters=n_clusters)\n",
    "        k_means.fit(embedding)\n",
    "        cluster = k_means.predict(embedding) \n",
    "        distance = k_means.transform(embedding)\n",
    "        \n",
    "        plt.subplot(5,6,6*i+j+1)\n",
    "        plt.title('Perplex= {:.0f} Clusters= {:.0f}'.format(perplex,n_clusters))\n",
    "        plt.scatter(embedding[:,0], embedding[:,1], c=cluster, cmap='Paired',s=5)\n",
    "    \n",
    "    "
   ]
  },
  {
   "cell_type": "markdown",
   "metadata": {},
   "source": [
    "Para distintas perplejidades y distintos clusters, se puede ver cómo existen ciertas aglomeraciones alrededor de algunos puntos. Sin embargo, el comportamiento no es evidente a partir de lo que se observa a simple vista. Para los casos extremos de perplejidades 5 y 45, los datos no se aglomeran o se aglomeran demasiado para ser identificables.\n",
    "\n",
    "Para los casos de 15 y 25 de perplejidad, se ven unas líneas de tendencia en el espacio proyectado a dos dimensiones. Estas líneas de tendencia podrían ser útiles al momento de hacer una clasificación de las compañías."
   ]
  },
  {
   "cell_type": "code",
   "execution_count": null,
   "metadata": {},
   "outputs": [],
   "source": []
  }
 ],
 "metadata": {
  "kernelspec": {
   "display_name": "Python 3",
   "language": "python",
   "name": "python3"
  },
  "language_info": {
   "codemirror_mode": {
    "name": "ipython",
    "version": 3
   },
   "file_extension": ".py",
   "mimetype": "text/x-python",
   "name": "python",
   "nbconvert_exporter": "python",
   "pygments_lexer": "ipython3",
   "version": "3.7.4"
  }
 },
 "nbformat": 4,
 "nbformat_minor": 2
}
